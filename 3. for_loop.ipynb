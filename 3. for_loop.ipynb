{
 "cells": [
  {
   "cell_type": "code",
   "execution_count": 1,
   "metadata": {},
   "outputs": [
    {
     "name": "stdout",
     "output_type": "stream",
     "text": [
      "m\n",
      "y\n",
      " \n",
      "n\n",
      "a\n",
      "m\n",
      "e\n",
      " \n",
      "i\n",
      "s\n",
      " \n",
      "a\n",
      "n\n",
      "u\n",
      "j\n",
      "a\n"
     ]
    }
   ],
   "source": [
    "a = \"my name is anuja\"\n",
    "for i in a:\n",
    "    print(i)"
   ]
  },
  {
   "cell_type": "code",
   "execution_count": 5,
   "metadata": {},
   "outputs": [
    {
     "name": "stdout",
     "output_type": "stream",
     "text": [
      "m\n",
      "y\n",
      " \n",
      "n\n",
      "a\n",
      "m\n",
      "e\n",
      " \n",
      "i\n",
      "s\n",
      " \n",
      "a\n",
      "n\n",
      "u\n",
      "YES! I found j\n",
      "j\n",
      "a\n"
     ]
    }
   ],
   "source": [
    "# loop to find j inside my string\n",
    "a = \"my name is anuja\"\n",
    "for i in a:\n",
    "    if i == 'j':\n",
    "        print(\"YES! I found j\")\n",
    "    print(i)"
   ]
  },
  {
   "cell_type": "code",
   "execution_count": 7,
   "metadata": {},
   "outputs": [
    {
     "name": "stdout",
     "output_type": "stream",
     "text": [
      "m\n",
      "y\n",
      " \n",
      "n\n",
      "a\n",
      "m\n",
      "e\n",
      " \n",
      "i\n",
      "s\n",
      " \n",
      "a\n",
      "n\n",
      "u\n",
      "j\n",
      "a\n",
      "The string is exhausted and for statment is not true anymore\n"
     ]
    }
   ],
   "source": [
    "for i in a:\n",
    "    print(i)\n",
    "else: print(\"The string is exhausted and for statment is not true anymore\")"
   ]
  },
  {
   "cell_type": "code",
   "execution_count": 9,
   "metadata": {},
   "outputs": [
    {
     "name": "stdout",
     "output_type": "stream",
     "text": [
      "H\n",
      "e\n",
      "y\n",
      " \n",
      "!\n",
      " \n"
     ]
    }
   ],
   "source": [
    "# in the above case else is executed everytime for loop goes False\n",
    "# in order to not execute the else part, a break command is used\n",
    "\n",
    "a = \"Hey ! no dont u\"\n",
    "for i in a:\n",
    "    if i == 'n':\n",
    "        break\n",
    "    print(i)\n",
    "\n",
    "else:\n",
    "    if i == 'u':\n",
    "        print('last char is u')\n",
    "    print('else statement')"
   ]
  },
  {
   "cell_type": "code",
   "execution_count": 12,
   "metadata": {},
   "outputs": [
    {
     "name": "stdout",
     "output_type": "stream",
     "text": [
      "ieuro\n"
     ]
    }
   ],
   "source": [
    "s = \"ineuron\"\n",
    "ss = ''\n",
    "for i in range(len(s)):\n",
    "    if s[i] == 'n':\n",
    "        continue\n",
    "    else:\n",
    "        ss = ss + s[i]\n",
    "print(ss)"
   ]
  }
 ],
 "metadata": {
  "kernelspec": {
   "display_name": "Python 3",
   "language": "python",
   "name": "python3"
  },
  "language_info": {
   "codemirror_mode": {
    "name": "ipython",
    "version": 3
   },
   "file_extension": ".py",
   "mimetype": "text/x-python",
   "name": "python",
   "nbconvert_exporter": "python",
   "pygments_lexer": "ipython3",
   "version": "3.9.5"
  },
  "orig_nbformat": 4,
  "vscode": {
   "interpreter": {
    "hash": "11938c6bc6919ae2720b4d5011047913343b08a43b18698fd82dedb0d4417594"
   }
  }
 },
 "nbformat": 4,
 "nbformat_minor": 2
}
